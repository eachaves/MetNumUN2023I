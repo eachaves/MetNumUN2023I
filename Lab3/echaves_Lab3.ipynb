{
  "nbformat": 4,
  "nbformat_minor": 0,
  "metadata": {
    "colab": {
      "provenance": []
    },
    "kernelspec": {
      "name": "python3",
      "display_name": "Python 3"
    },
    "language_info": {
      "name": "python"
    }
  },
  "cells": [
    {
      "cell_type": "markdown",
      "source": [
        "[linkedin](https://www.linkedin.com/in/edwin-alberto-chaves-cardenas-573a19268/)\n"
      ],
      "metadata": {
        "id": "6orPqF-egeWZ"
      }
    },
    {
      "cell_type": "markdown",
      "source": [
        "[Data Analysis with Python](https://courses.cognitiveclass.ai/certificates/260bdb1e39ed457f9bcd04bbe14947f0)"
      ],
      "metadata": {
        "id": "omPa7YS_htDB"
      }
    },
    {
      "cell_type": "markdown",
      "source": [
        "[Data Visualization with Python](https://courses.cognitiveclass.ai/certificates/7f3b48f3809c4fefa4625135ffd91157)"
      ],
      "metadata": {
        "id": "hQxiVdkXhtU3"
      }
    },
    {
      "cell_type": "markdown",
      "source": [
        "[Python 101 for Data Science](https://courses.cognitiveclass.ai/certificates/8c60fe765faa422f8760083444009285)"
      ],
      "metadata": {
        "id": "BWWEWQJZhtrM"
      }
    }
  ]
}