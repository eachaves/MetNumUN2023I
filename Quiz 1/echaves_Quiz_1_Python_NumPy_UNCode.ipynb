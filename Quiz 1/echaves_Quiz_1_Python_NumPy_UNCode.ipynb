{
  "nbformat": 4,
  "nbformat_minor": 0,
  "metadata": {
    "colab": {
      "provenance": []
    },
    "kernelspec": {
      "name": "python3",
      "display_name": "Python 3"
    }
  },
  "cells": [
    {
      "cell_type": "code",
      "metadata": {
        "id": "875DsJCur8zB",
        "colab": {
          "base_uri": "https://localhost:8080/"
        },
        "outputId": "a5c09ce9-90e4-4039-958c-259ef48e1726"
      },
      "source": [
        "!python --version\n",
        "import numpy as np\n",
        "\n",
        "print('NumPy', np.__version__)"
      ],
      "execution_count": 16,
      "outputs": [
        {
          "output_type": "stream",
          "name": "stdout",
          "text": [
            "Python 3.8.10\n",
            "NumPy 1.22.4\n"
          ]
        }
      ]
    },
    {
      "cell_type": "code",
      "source": [
        "def FizzBuzz(x):\n",
        "\n",
        "    if x % 3 == 0 and not (x % 5 == 0):\n",
        "        answer1 =\"Fizz!\"\n",
        "        return answer1\n",
        "    elif x % 5 == 0 and not (x % 3 == 0):\n",
        "        answer2 =\"Buzz!\"\n",
        "        return answer2\n",
        "    elif x % 3 == 0 and  x % 5 == 0:\n",
        "        answer3 =\"FizzBuzz!\"\n",
        "        return answer3\n",
        "    else:\n",
        "        answer4 =\"...\"\n",
        "        return answer4 "
      ],
      "metadata": {
        "id": "tAoiLUOasw3f"
      },
      "execution_count": 8,
      "outputs": []
    },
    {
      "cell_type": "code",
      "source": [
        "def FizzBuzzList(n):\n",
        "  ans = []\n",
        "  for i in range (n):\n",
        "    ans.append(FizzBuzz(i+1))\n",
        "  return ans  "
      ],
      "metadata": {
        "id": "7zr7j86Zvmtq"
      },
      "execution_count": 12,
      "outputs": []
    },
    {
      "cell_type": "code",
      "source": [
        "import numpy as np\n",
        "def standarize(X):\n",
        "  X_standarized = (X-X.mean())/X.std()\n",
        "  return X_standarized"
      ],
      "metadata": {
        "id": "L3T8XeWGhhNL"
      },
      "execution_count": 19,
      "outputs": []
    },
    {
      "cell_type": "code",
      "source": [
        "import numpy as np\n",
        "def main_diagonal_matrix(A):\n",
        "  D = np.diag(np.diag(A)).astype(float)\n",
        "  return D"
      ],
      "metadata": {
        "id": "RuBKDj4-vRzc"
      },
      "execution_count": 17,
      "outputs": []
    }
  ]
}